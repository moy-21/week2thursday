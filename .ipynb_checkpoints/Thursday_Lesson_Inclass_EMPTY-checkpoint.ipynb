{
 "cells": [
  {
   "cell_type": "markdown",
   "metadata": {},
   "source": [
    "# Object-Oriented-Programming (OOP)"
   ]
  },
  {
   "cell_type": "markdown",
   "metadata": {},
   "source": [
    "## Tasks Today:\n",
    "\n",
    "   \n",
    "\n",
    "1) <b>Creating a Class (Initializing/Declaring)</b> <br>\n",
    "2) <b>Using a Class (Instantiating)</b> <br>\n",
    " &nbsp;&nbsp;&nbsp;&nbsp; a) Creating One Instance <br>\n",
    " &nbsp;&nbsp;&nbsp;&nbsp; b) Creating Multiple Instances <br>\n",
    " &nbsp;&nbsp;&nbsp;&nbsp; c) In-Class Exercise #1 - Create a Class 'Car' and instantiate three different makes of cars <br>\n",
    "3) <b>The \\__init\\__() Method</b> <br>\n",
    " &nbsp;&nbsp;&nbsp;&nbsp; a) The 'self' Attribute <br>\n",
    "4) <b>Class Attributes</b> <br>\n",
    " &nbsp;&nbsp;&nbsp;&nbsp; a) Initializing Attributes <br>\n",
    " &nbsp;&nbsp;&nbsp;&nbsp; b) Setting an Attribute Outside of the \\__init\\__() Method <br>\n",
    " &nbsp;&nbsp;&nbsp;&nbsp; c) Setting Defaults for Attributes <br>\n",
    " &nbsp;&nbsp;&nbsp;&nbsp; d) Accessing Class Attributes <br>\n",
    " &nbsp;&nbsp;&nbsp;&nbsp; e) Changing Class Attributes <br>\n",
    " &nbsp;&nbsp;&nbsp;&nbsp; f) In-Class Exercise #2 - Add a color and wheels attribute to your 'Car' class <br>\n",
    "5) <b>Class Methods</b> <br>\n",
    " &nbsp;&nbsp;&nbsp;&nbsp; a) Creating <br>\n",
    " &nbsp;&nbsp;&nbsp;&nbsp; b) Calling <br>\n",
    " &nbsp;&nbsp;&nbsp;&nbsp; c) Modifying an Attribute's Value Through a Method <br>\n",
    " &nbsp;&nbsp;&nbsp;&nbsp; d) Incrementing an Attribute's Value Through a Method <br>\n",
    " &nbsp;&nbsp;&nbsp;&nbsp; e) In-Class Exercise #3 - Add a method that prints the cars color and wheel number, then call them <br>\n",
    "6) <b>Inheritance</b> <br>\n",
    " &nbsp;&nbsp;&nbsp;&nbsp; a) Syntax for Inheriting from a Parent Class <br>\n",
    " &nbsp;&nbsp;&nbsp;&nbsp; b) The \\__init\\__() Method for a Child Class (super()) <br>\n",
    " &nbsp;&nbsp;&nbsp;&nbsp; c) Defining Attributes and Methods for the Child Class <br>\n",
    " &nbsp;&nbsp;&nbsp;&nbsp; d) Method Overriding <br>\n",
    " &nbsp;&nbsp;&nbsp;&nbsp; e) In-Class Exercise #4 - Create a class 'Ford' that inherits from 'Car' class and initialize it as a Blue Ford Explorer with 4 wheels using the super() method <br>\n",
    "7) <b>Classes as Attributes</b> <br>\n",
    "8) <b>Exercises</b> <br>\n",
    " &nbsp;&nbsp;&nbsp;&nbsp; a) Exercise #1 - Turn the shopping cart program from yesterday into an object-oriented program <br>"
   ]
  },
  {
   "cell_type": "code",
   "execution_count": 3,
   "metadata": {},
   "outputs": [
    {
     "data": {
      "text/plain": [
       "'Hey guys the clss is long'"
      ]
     },
     "execution_count": 3,
     "metadata": {},
     "output_type": "execute_result"
    }
   ],
   "source": [
    "my_string = \"Hey guys the clss is long \"\n",
    "\n",
    "my_string = my_string.split()\n",
    "\n",
    "\" \".join(my_string)"
   ]
  },
  {
   "cell_type": "code",
   "execution_count": null,
   "metadata": {},
   "outputs": [],
   "source": []
  },
  {
   "cell_type": "code",
   "execution_count": null,
   "metadata": {},
   "outputs": [],
   "source": [
    "from IPython.display import clear_output\n",
    "\n",
    "\n",
    "cart = []\n",
    "\n",
    "# Show, add, remove, clear\n",
    "\n",
    "def show_cart():\n",
    "    clear_output()\n",
    "    print(\"Your Cart Contains:\")\n",
    "    for item in cart:\n",
    "        print(item)\n",
    "    if not cart:\n",
    "        print(\"Your Cart is empty\")\n",
    "\n",
    "def add_item(item):\n",
    "    clear_output()\n",
    "    cart.append(item)\n",
    "    print(f\"{item} was added to your cart\")\n",
    "\n",
    "def remove_item(item):\n",
    "    clear_output()\n",
    "    cart.remove(item)\n",
    "    print(f\"{item} was removed from your cart\")\n",
    "\n",
    "def clear_cart():\n",
    "    clear_output()\n",
    "    cart.clear()\n",
    "    print(\"You cart is empty\")\n",
    "\n",
    "#UI\n",
    "def shopping_cart():\n",
    "    while True:\n",
    "        response = input(\"What would you like to do?  You can: quit/ add/ remove/ show/ or clear/ \\n Choose only one \\n\")\n",
    "        if response.lower().strip() == 'quit':\n",
    "            show_cart()\n",
    "            print(\"Thanks for Shopping\")\n",
    "            break\n",
    "        elif response.lower().strip() == 'add':\n",
    "            item1 = input(\"What would you like to add? \")\n",
    "            add_item(item1)\n",
    "        elif response.lower().strip() == 'remove':\n",
    "            item2 = input(\"What would you like to remove? \")\n",
    "            remove_item(item2)\n",
    "        elif response.lower().strip() == 'show':\n",
    "            show_cart()\n",
    "        elif response.lower().strip() == 'clear':\n",
    "            clear_cart()\n",
    "        else:\n",
    "            print(\"Invalid Option You Hockey Puck!\")\n",
    "            \n",
    "# Driver Code        \n",
    "shopping_cart()\n",
    "\n",
    "\n",
    "\n",
    "\n",
    "\n",
    "\n",
    "\n"
   ]
  },
  {
   "cell_type": "code",
   "execution_count": null,
   "metadata": {},
   "outputs": [],
   "source": [
    "alex = {\n",
    "    'name':'Alex',\n",
    "    'weight': 190,\n",
    "    'age': 'old',\n",
    "    'activity':'soccer',\n",
    "}\n",
    "patrick = {\n",
    "    'name': 'Patrick',\n",
    "    'weight': 140,\n",
    "    'age': 65,\n",
    "    'activity':'football',\n",
    "}\n",
    "\n",
    "def do_activity(person):\n",
    "    if person['activity']== 'football':"
   ]
  },
  {
   "cell_type": "code",
   "execution_count": null,
   "metadata": {},
   "outputs": [],
   "source": [
    "# Circumfrance of a cirle\n"
   ]
  },
  {
   "cell_type": "markdown",
   "metadata": {},
   "source": [
    "## Creating a Class (Initializing/Declaring)\n",
    "<p>When creating a class, function, or even a variable you are initializing that object. Initializing and Declaring occur at the same time in Python, whereas in lower level languages you have to declare an object before initializing it. This is the first step in the process of using a class.</p>"
   ]
  },
  {
   "cell_type": "code",
   "execution_count": 4,
   "metadata": {},
   "outputs": [],
   "source": [
    "class Car():\n",
    "    wheels = 4\n",
    "    color = 'blue'\n",
    "    "
   ]
  },
  {
   "cell_type": "markdown",
   "metadata": {},
   "source": [
    "## Using a Class (Instantiating)\n",
    "<p>The process of creating a class is called <i>Instantiating</i>. Each time you create a variable of that type of class, it is referred to as an <i>Instance</i> of that class. This is the second step in the process of using a class.</p>"
   ]
  },
  {
   "cell_type": "markdown",
   "metadata": {},
   "source": [
    "##### Creating One Instance"
   ]
  },
  {
   "cell_type": "code",
   "execution_count": 5,
   "metadata": {},
   "outputs": [
    {
     "data": {
      "text/plain": [
       "<__main__.Car at 0x7fa15f793850>"
      ]
     },
     "execution_count": 5,
     "metadata": {},
     "output_type": "execute_result"
    }
   ],
   "source": [
    "ford = Car()\n",
    "ford"
   ]
  },
  {
   "cell_type": "code",
   "execution_count": 6,
   "metadata": {},
   "outputs": [
    {
     "data": {
      "text/plain": [
       "4"
      ]
     },
     "execution_count": 6,
     "metadata": {},
     "output_type": "execute_result"
    }
   ],
   "source": [
    "ford.wheels"
   ]
  },
  {
   "cell_type": "code",
   "execution_count": 7,
   "metadata": {},
   "outputs": [
    {
     "data": {
      "text/plain": [
       "'blue'"
      ]
     },
     "execution_count": 7,
     "metadata": {},
     "output_type": "execute_result"
    }
   ],
   "source": [
    "ford.color"
   ]
  },
  {
   "cell_type": "markdown",
   "metadata": {},
   "source": [
    "##### Creating Multiple Instances"
   ]
  },
  {
   "cell_type": "code",
   "execution_count": 8,
   "metadata": {},
   "outputs": [
    {
     "name": "stdout",
     "output_type": "stream",
     "text": [
      "4\n",
      "4\n",
      "4\n",
      "blue\n"
     ]
    }
   ],
   "source": [
    "chevy = Car()\n",
    "honda = Car()\n",
    "porshe = Car()\n",
    "\n",
    "print(chevy.wheels)\n",
    "print(honda.wheels)\n",
    "print(porshe.wheels)\n",
    "print(chevy.color)"
   ]
  },
  {
   "cell_type": "markdown",
   "metadata": {},
   "source": [
    "##### In-Class Exercise #1 - Create a Class 'Car' and Instantiate three different makes of cars"
   ]
  },
  {
   "cell_type": "code",
   "execution_count": 10,
   "metadata": {},
   "outputs": [
    {
     "name": "stdout",
     "output_type": "stream",
     "text": [
      "sedan\n"
     ]
    }
   ],
   "source": [
    "class Car1():\n",
    "    year = 2020\n",
    "    model = \"sedan\"\n",
    "    color = \"black\"\n",
    "    wheels = 4\n",
    "    \n",
    "toyotacamry = Car1()\n",
    "chevyimpala = Car1()\n",
    "nissanaltima = Car1()\n",
    "mitsubishieclipse = Car1()\n",
    "\n",
    "print(toyotacamry.model)"
   ]
  },
  {
   "cell_type": "markdown",
   "metadata": {},
   "source": [
    "## The \\__init\\__() Method <br>\n",
    "<p>This method is used in almost every created class, and called only once upon the creation of the class instance. This method will initialize all variables needed for the object.</p>"
   ]
  },
  {
   "cell_type": "code",
   "execution_count": 11,
   "metadata": {},
   "outputs": [
    {
     "name": "stdout",
     "output_type": "stream",
     "text": [
      "4\n"
     ]
    }
   ],
   "source": [
    "class Car2():\n",
    "    engine = \"4.7L\"#class atribute\n",
    "    \n",
    "    #constructor\n",
    "    def __init__(self, color, num_wheels=4):\n",
    "        self.wheels = num_wheels\n",
    "        self.color = color\n",
    "        \n",
    "ford2 = Car2(\"red\")\n",
    "trike = Car2(\"green\",3)\n",
    "\n",
    "print(ford2.wheels)"
   ]
  },
  {
   "cell_type": "markdown",
   "metadata": {},
   "source": [
    "##### The 'self' Attribute <br>\n",
    "<p>This attribute is required to keep track of specific instance's attributes. Without the self attribute, the program would not know how to reference or keep track of an instance's attributes.</p>"
   ]
  },
  {
   "cell_type": "code",
   "execution_count": null,
   "metadata": {},
   "outputs": [],
   "source": [
    "# see above"
   ]
  },
  {
   "cell_type": "markdown",
   "metadata": {},
   "source": [
    "## Class Attributes <br>\n",
    "<p>While variables are inside of a class, they are referred to as attributes and not variables. When someone says 'attribute' you know they're speaking about a class. Attributes can be initialized through the init method, or outside of it.</p>"
   ]
  },
  {
   "cell_type": "markdown",
   "metadata": {},
   "source": [
    "##### Initializing Attributes"
   ]
  },
  {
   "cell_type": "code",
   "execution_count": null,
   "metadata": {},
   "outputs": [],
   "source": [
    "# see above"
   ]
  },
  {
   "cell_type": "markdown",
   "metadata": {},
   "source": [
    "##### Accessing Class Attributes"
   ]
  },
  {
   "cell_type": "code",
   "execution_count": null,
   "metadata": {
    "scrolled": true
   },
   "outputs": [],
   "source": [
    "# See Above"
   ]
  },
  {
   "cell_type": "markdown",
   "metadata": {},
   "source": [
    "##### Setting Defaults for Attributes"
   ]
  },
  {
   "cell_type": "code",
   "execution_count": null,
   "metadata": {},
   "outputs": [],
   "source": []
  },
  {
   "cell_type": "markdown",
   "metadata": {},
   "source": [
    "##### Changing Class Attributes <br>\n",
    "<p>Keep in mind there are global class attributes and then there are attributes only available to each class instance which won't effect other classes.</p>"
   ]
  },
  {
   "cell_type": "code",
   "execution_count": null,
   "metadata": {},
   "outputs": [],
   "source": [
    "trike.engine = \"2.0L\"\n",
    "print(trike.engine)\n",
    "print(ford.engine)"
   ]
  },
  {
   "cell_type": "code",
   "execution_count": null,
   "metadata": {},
   "outputs": [],
   "source": [
    "#change class variable across all cars \n",
    "Car.engine = \"1.5L\"\n",
    "trike.engine\n",
    "new_car = Car2(\"yellow\")\n",
    "print(new_car.engine)"
   ]
  },
  {
   "cell_type": "raw",
   "metadata": {},
   "source": []
  },
  {
   "cell_type": "code",
   "execution_count": null,
   "metadata": {},
   "outputs": [],
   "source": [
    "ford.color= \"purple\"\n",
    "print(ford.color)"
   ]
  },
  {
   "cell_type": "markdown",
   "metadata": {},
   "source": [
    "##### In-Class Exercise #2 - Add a doors and seats attribute to your 'Car' class then print out two different instances with different doors and seats"
   ]
  },
  {
   "cell_type": "code",
   "execution_count": 5,
   "metadata": {},
   "outputs": [
    {
     "name": "stdout",
     "output_type": "stream",
     "text": [
      "5\n",
      "4\n",
      "5\n",
      "6\n"
     ]
    }
   ],
   "source": [
    "class Car1():\n",
    "    year = 2020\n",
    "    model = \"sedan\"\n",
    "    color = \"black\"\n",
    "    wheels = 4\n",
    "    doors= 4\n",
    "    seats = 5\n",
    "    \n",
    "toyotacamry = Car1()\n",
    "chevyimpala = Car1()\n",
    "nissanaltima = Car1()\n",
    "mitsubishieclipse = Car1()\n",
    "\n",
    "toyotacamry.doors = 5\n",
    "print(toyotacamry.doors)\n",
    "print(chevyimpala.doors)\n",
    "chevyimpala.seats = 6\n",
    "print(toyotacamry.seats)\n",
    "print(chevyimpala.seats)\n",
    "    \n"
   ]
  },
  {
   "cell_type": "markdown",
   "metadata": {},
   "source": [
    "## Instantatenous Methods <br>\n",
    "<p>While inside of a class, functions are referred to as 'methods'. If you hear someone mention methods, they're speaking about classes. Methods are essentially functions, but only callable on the instances of a class.</p>"
   ]
  },
  {
   "cell_type": "markdown",
   "metadata": {},
   "source": [
    "##### Creating"
   ]
  },
  {
   "cell_type": "code",
   "execution_count": 14,
   "metadata": {},
   "outputs": [
    {
     "name": "stdout",
     "output_type": "stream",
     "text": [
      "{'wheels': 4, 'color': 'red', 'seats': 8, 'has_sunroof': False}\n",
      "Vroooooomm\n",
      "The car is red with 8 seats and 4 wheels\n",
      "The car is green with 8 seats and 4 wheels\n",
      "The car is green with 9 seats and 4 wheels\n",
      "Vroooooomm\n"
     ]
    }
   ],
   "source": [
    "class Car():\n",
    "    def __init__(self, wheels, color, seats):\n",
    "        self.wheels = wheels\n",
    "        self.color = color\n",
    "        self.seats = seats\n",
    "        self.has_sunroof = False\n",
    "        \n",
    "    def drive(self):\n",
    "        print(\"Vroooooomm\")\n",
    "    def set_color(self, new_color):\n",
    "        self.color = new_color\n",
    "        \n",
    "    def describe(self):\n",
    "        print(f'The car is {self.color} with {self.seats} seats and {self.wheels} wheels')\n",
    "              \n",
    "        \n",
    "    def add_seats(self):\n",
    "        self.seats += 1\n",
    "              \n",
    "              \n",
    "              \n",
    "              \n",
    "              \n",
    "chevy = Car(4,'red',8)\n",
    "print(chevy.__dict__)\n",
    "\n",
    "chevy.drive()\n",
    "chevy.describe()\n",
    "chevy.set_color('green')\n",
    "chevy.describe()\n",
    "chevy.add_seats()\n",
    "chevy.describe()\n",
    "\n",
    "\n",
    "Car.drive(chevy) # we dont do this\n",
    "\n",
    "\n"
   ]
  },
  {
   "cell_type": "markdown",
   "metadata": {},
   "source": [
    "##### Calling"
   ]
  },
  {
   "cell_type": "code",
   "execution_count": null,
   "metadata": {},
   "outputs": [],
   "source": [
    "# See Above"
   ]
  },
  {
   "cell_type": "markdown",
   "metadata": {},
   "source": [
    "##### Modifying an Attribute's Value Through a Method"
   ]
  },
  {
   "cell_type": "code",
   "execution_count": null,
   "metadata": {},
   "outputs": [],
   "source": []
  },
  {
   "cell_type": "markdown",
   "metadata": {},
   "source": [
    "##### Incrementing an Attribute's Value Through a Method"
   ]
  },
  {
   "cell_type": "code",
   "execution_count": null,
   "metadata": {},
   "outputs": [],
   "source": []
  },
  {
   "cell_type": "markdown",
   "metadata": {},
   "source": [
    "##### In-Class Exercise #3 - Add a method that takes in three parameters of year, doors and seats and prints out a formatted print statement with make, model, year, seats, and doors"
   ]
  },
  {
   "cell_type": "code",
   "execution_count": 28,
   "metadata": {},
   "outputs": [
    {
     "name": "stdout",
     "output_type": "stream",
     "text": [
      "The car is from 2020 Ford Explorer and has 4 doors and 8 seats\n",
      "The car is from 2000 Ford RDS and has 4 doors and 8 seats\n",
      "Ford Explorer is better than FordRDS\n"
     ]
    }
   ],
   "source": [
    "# Create class with 2 paramters inside of the __init__ which are make and model\n",
    "\n",
    "# Inside of the Car class create a method that has 4 parameter in total (self,year,door,seats)\n",
    "\n",
    "# Output: This car is from 2019 and is a Ford Expolorer and has 4 doors and 5 seats\n",
    "class Car3():\n",
    "    engine = \"4.7L\"\n",
    "    def __init__(self, make, model):\n",
    "        self.make = make\n",
    "        self.model = model\n",
    "        \n",
    "    def car(self, year, door, seats):\n",
    "        self.year= year\n",
    "        self.door = door\n",
    "        self.seats = seats\n",
    "        \n",
    "       \n",
    "        \n",
    "    def describe(self):\n",
    "        print(f'The car is from {self.year} {self.make} {self.model} and has {self.door} doors and {self.seats} seats')\n",
    "    @classmethod\n",
    "    def which_is_better(cls, car1,car2):\n",
    "        if car1.year > car2.year:\n",
    "            print(f'{car1.make} {car1.model} is better than {car2.make}{car2.model}')\n",
    "        else:\n",
    "            print(f'{car2.make} {car2.model} is better than {car1.make}{car1.model}')\n",
    "        \n",
    "chevy= Car3(\"Ford\",\"Explorer\")\n",
    "chevy.car(2020,4,8)\n",
    "chevy.describe()\n",
    "alex_car = Car3(\"Ford\",\"RDS\")\n",
    "alex_car.car(2000, 4, 8)\n",
    "alex_car.describe()\n",
    "\n",
    "Car3.which_is_better(chevy, alex_car)\n",
    "\n"
   ]
  },
  {
   "cell_type": "markdown",
   "metadata": {},
   "source": [
    "## Inheritance <br>\n",
    "<p>You can create a child-parent relationship between two classes by using inheritance. What this allows you to do is have overriding methods, but also inherit traits from the parent class. Think of it as an actual parent and child, the child will inherit the parent's genes, as will the classes in OOP</p>"
   ]
  },
  {
   "cell_type": "markdown",
   "metadata": {},
   "source": [
    "##### Syntax for Inheriting from a Parent Class"
   ]
  },
  {
   "cell_type": "code",
   "execution_count": 31,
   "metadata": {},
   "outputs": [
    {
     "name": "stdout",
     "output_type": "stream",
     "text": [
      "the dog has 15 m/s speed and 9.8 m/s**2 acceleration ans is a Black Lab is housetrained : True\n",
      "BAARRRRKKKK!!!!!!!\n",
      "galloping\n",
      "Some Generic Animal Sound\n",
      "galloping\n"
     ]
    }
   ],
   "source": [
    "class Animal():\n",
    "    acc = 9.8\n",
    "    def __init__(self, name, species, legs=4):\n",
    "        self.name = name\n",
    "        self.species = species\n",
    "        self.legs = legs\n",
    "        self.random = 55\n",
    "    \n",
    "    def speak(self):\n",
    "        print(\"Some Generic Animal Sound\")\n",
    "        \n",
    "    def run(self):\n",
    "        print(\"galloping\")\n",
    "\n",
    "class Dog(Animal):\n",
    "    speed = 15\n",
    "    def __init__(self, is_house_trained, name, species, legs=4):\n",
    "        super().__init__(name,species, legs)\n",
    "        self.is_house_trained = is_house_trained\n",
    "        \n",
    "    def describe(self):\n",
    "        print(f'the dog has {self.speed} m/s speed and {self.acc} m/s**2 acceleration ans is a {self.species} \\\n",
    "is housetrained : {self.is_house_trained}')\n",
    "    \n",
    "    #method overriding .. this will override the method in the parent class\n",
    "    def speak(self):\n",
    "        print(\"BAARRRRKKKK!!!!!!!\")\n",
    "\n",
    "nala = Dog(True, 'Nala', 'Black Lab')\n",
    "nala.describe()\n",
    "nala.speak()\n",
    "nala.run()\n",
    "\n",
    "        \n",
    "zebra = Animal('Zee', 'Zebra')\n",
    "zebra.speak()\n",
    "zebra.run()"
   ]
  },
  {
   "cell_type": "markdown",
   "metadata": {},
   "source": [
    "##### The \\__init\\__() Method for a Child Class - super()"
   ]
  },
  {
   "cell_type": "code",
   "execution_count": null,
   "metadata": {
    "scrolled": true
   },
   "outputs": [],
   "source": []
  },
  {
   "cell_type": "markdown",
   "metadata": {},
   "source": [
    "##### Defining Attributes and Methods for the Child Class"
   ]
  },
  {
   "cell_type": "code",
   "execution_count": null,
   "metadata": {},
   "outputs": [],
   "source": [
    "# See Above"
   ]
  },
  {
   "cell_type": "markdown",
   "metadata": {},
   "source": [
    "##### Method Overriding"
   ]
  },
  {
   "cell_type": "code",
   "execution_count": null,
   "metadata": {},
   "outputs": [],
   "source": [
    "# See Above\n",
    "class Mutt(Dog):\n",
    "    def __init__(self, second_species, is_house_trained, name, species, legs=4):\n",
    "        super().__init__( is_house_trained, name, species, legs)\n",
    "        self.second_species = second_species\n",
    "        \n",
    "    def describe(self):\n",
    "        print(f\"the mutt is a mix of {self.species} and {self.second_species}\")\n",
    "        \n",
    "tippi = Mutt(\"boxer\", True, \"Tippi\", \"Pitbull\")\n",
    "tippi.describe()\n",
    "tippi.run()\n",
    "tippi.speak()"
   ]
  },
  {
   "cell_type": "markdown",
   "metadata": {},
   "source": [
    "## Classes as Attributes <br>\n",
    "<p>Classes can also be used as attributes within another class. This is useful in situations where you need to keep variables locally stored, instead of globally stored.</p>"
   ]
  },
  {
   "cell_type": "code",
   "execution_count": 93,
   "metadata": {},
   "outputs": [
    {
     "name": "stdout",
     "output_type": "stream",
     "text": [
      "2020 Tesla 7.8 6 20\n",
      "recharging...\n"
     ]
    }
   ],
   "source": [
    "class ElectricCar():\n",
    "    def __init__(self, year, make, a_battery):\n",
    "        self.year = year\n",
    "        self.make = make\n",
    "        self.battery = a_battery\n",
    "    \n",
    "    def describe(self):\n",
    "        print(self.year, self.make, self.battery.volts, self.battery.time, self.battery.cells)\n",
    "    \n",
    "class Battery:\n",
    "    volts = 7.8\n",
    "    def __init__(self, cells):\n",
    "        self.cells = cells\n",
    "        self.time = 6\n",
    "        self.var = \"my_battery\"\n",
    "    \n",
    "    def recharge(self):\n",
    "        print('recharging...')\n",
    "        \n",
    "\n",
    "tesla = ElectricCar(2020, \"Tesla\", Battery(20))\n",
    "tesla.describe()\n",
    "tesla.battery.recharge()"
   ]
  },
  {
   "cell_type": "code",
   "execution_count": 33,
   "metadata": {},
   "outputs": [
    {
     "name": "stdout",
     "output_type": "stream",
     "text": [
      "What do you want to do? Run Rant or Quit?run\n",
      "Patrick says huff and puff Bopys am I a fat slob\n",
      "What do you want to do? Run Rant or Quit?quit\n"
     ]
    }
   ],
   "source": [
    "class Person():\n",
    "    def __init__(self, name, age):\n",
    "        self.name = name\n",
    "        self.age = age\n",
    "        \n",
    "    def run(self):\n",
    "        print(f\"{self.name} says huff and puff Bopys am I a fat slob\")\n",
    "        \n",
    "    def rant(self):\n",
    "        print(f\"{self.name} says Epistien didn't hell himself!!\")\n",
    "        \n",
    "class UI():\n",
    "    def __init__(self, person):\n",
    "        self.person = person\n",
    "    \n",
    "    def run_program(self):\n",
    "        while True:\n",
    "            response = input(\"What do you want to do? Run Rant or Quit?\")\n",
    "            if response.lower() == \"quit\":\n",
    "                break\n",
    "            elif response.lower() == \"run\":\n",
    "                self.person.run()\n",
    "            elif response.lower() == \"rant\":\n",
    "                self.person.rant()\n",
    "                \n",
    "#Driver Code\n",
    "patrick  = Person(\"Patrick\", 24)\n",
    "ui = UI(patrick)\n",
    "ui.run_program()"
   ]
  },
  {
   "cell_type": "code",
   "execution_count": 60,
   "metadata": {},
   "outputs": [
    {
     "data": {
      "text/plain": [
       "datetime.timedelta(days=-1, seconds=86399, microseconds=999846)"
      ]
     },
     "execution_count": 60,
     "metadata": {},
     "output_type": "execute_result"
    }
   ],
   "source": [
    "from datetime import datetime as dt, timedelta\n",
    "\n",
    "before = dt.now()\n",
    "\n",
    "before - dt.now()"
   ]
  },
  {
   "cell_type": "code",
   "execution_count": 61,
   "metadata": {},
   "outputs": [
    {
     "name": "stdout",
     "output_type": "stream",
     "text": [
      "brushing\n",
      "run on 4 legs\n"
     ]
    }
   ],
   "source": [
    "class FourLegs:\n",
    "    @classmethod\n",
    "    def run(cls):\n",
    "        print(\"run on 4 legs\")\n",
    "\n",
    "class Furry:\n",
    "    @classmethod\n",
    "    def brush(cls):\n",
    "        print(\"brushing\")\n",
    "        \n",
    "    @classmethod\n",
    "    def run(cls):\n",
    "        print(\"I have no legs!!!!\")\n",
    "        \n",
    "class Dog(FourLegs, Furry): #the first class will when in cases where methods are in both classes\n",
    "    def __init__(self):\n",
    "        super().__init__()\n",
    "        \n",
    "buster = Dog()\n",
    "buster.brush()\n",
    "buster.run()"
   ]
  },
  {
   "cell_type": "markdown",
   "metadata": {},
   "source": [
    "# Exercises"
   ]
  },
  {
   "cell_type": "markdown",
   "metadata": {},
   "source": [
    "### Exercise 1 - Turn the shopping cart program from yesterday into an object-oriented program"
   ]
  },
  {
   "cell_type": "code",
   "execution_count": 104,
   "metadata": {},
   "outputs": [
    {
     "name": "stdout",
     "output_type": "stream",
     "text": [
      "Do you want to add, delete, show or quit? add\n",
      "What item would you like to add? tomatoes\n",
      "tomatoes has been added to your cart. \n",
      " Would you like to add, delete, show cart or quit?: \n",
      "Do you want to add, delete, show or quit? show\n",
      "Your cart has ['tomatoes'] \n",
      "Do you want to add, delete, show or quit? delete\n",
      "What item would you like to remove? toma\n",
      "Sorry we couldnt find that please try again\n",
      "Do you want to add, delete, show or quit? quit\n",
      "['tomatoes']\n"
     ]
    }
   ],
   "source": [
    "# Create a class called cart that retains items and has methods to add, remove, and show\n",
    "\n",
    "class Cart():\n",
    "    def __init__(self):\n",
    "        self.cart_ = []\n",
    "    def item_add(self):\n",
    "        item = input(\"What item would you like to add? \")\n",
    "        self.cart_.append(item)\n",
    "        print(f'{item} has been added to your cart. \\n Would you like to add, delete, show cart or quit?: ')\n",
    "    def remove_item(self):\n",
    "        item = input(\"What item would you like to remove? \")\n",
    "        if item in self.cart_: \n",
    "            print(f'Your item {item} has been removed. \\n Would you like to add, delete, show cart or quit?: ')\n",
    "            self.cart_.remove(item)\n",
    "        else:\n",
    "            print(\"Sorry we couldnt find that please try again\")\n",
    "    def empty_cart(self):\n",
    "        self.cart_ = []\n",
    "        print(f'Your item cart has been emptied.')\n",
    "    def show_cart(self):\n",
    "        print(f'Your cart has {self.cart_} ')\n",
    "class UI(Cart):\n",
    "    def __init__(self):\n",
    "        super().__init__()\n",
    "    def run(self):\n",
    "        while True:\n",
    "            response_ = input(\"Do you want to add, delete, show or quit? \")\n",
    "            if response_.lower() == 'add':\n",
    "                self.item_add()\n",
    "            elif response_.lower() == 'delete':\n",
    "                self.remove_item()\n",
    "            elif response_.lower() == 'show':\n",
    "                self.show_cart()\n",
    "            elif response_.lower() == 'quit':\n",
    "                print(f'{self.cart_}')\n",
    "                break\n",
    "            else:\n",
    "                print(\"Wrong response try again\")\n",
    "\n",
    "\n",
    "\n",
    "run0= UI()\n",
    "run0.run()\n",
    "\n",
    "    "
   ]
  },
  {
   "cell_type": "code",
   "execution_count": null,
   "metadata": {},
   "outputs": [],
   "source": []
  },
  {
   "cell_type": "markdown",
   "metadata": {},
   "source": [
    "### Exercise 2 - Write a Python class which has two methods get_String and print_String. get_String accept a string from the user and print_String print the string in upper case"
   ]
  },
  {
   "cell_type": "code",
   "execution_count": 119,
   "metadata": {},
   "outputs": [
    {
     "name": "stdout",
     "output_type": "stream",
     "text": [
      "Type anything and ill repeat it!fg\n",
      " fg \n"
     ]
    }
   ],
   "source": [
    "class output_():\n",
    "    def __init__(self):\n",
    "        self.string_ = \"\"\n",
    "    def get_String(self):\n",
    "        self.string_ = input(\"Type anything and ill repeat it!\")\n",
    "        \n",
    "    def print_String(self):\n",
    "        print(f\" {self.string_} \")\n",
    "        \n",
    "output = output_()\n",
    "output.get_String()\n",
    "output.print_String()\n"
   ]
  }
 ],
 "metadata": {
  "kernelspec": {
   "display_name": "Python 3 (ipykernel)",
   "language": "python",
   "name": "python3"
  },
  "language_info": {
   "codemirror_mode": {
    "name": "ipython",
    "version": 3
   },
   "file_extension": ".py",
   "mimetype": "text/x-python",
   "name": "python",
   "nbconvert_exporter": "python",
   "pygments_lexer": "ipython3",
   "version": "3.9.7"
  }
 },
 "nbformat": 4,
 "nbformat_minor": 2
}
